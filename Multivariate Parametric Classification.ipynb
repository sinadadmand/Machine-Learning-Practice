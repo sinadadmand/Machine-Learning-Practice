{
 "cells": [
  {
   "cell_type": "markdown",
   "metadata": {},
   "source": [
    "# DASC521: Home Work 1\n",
    "## Sina Dadmand\n"
   ]
  },
  {
   "cell_type": "markdown",
   "metadata": {},
   "source": [
    "# Generating random data points based on HW:"
   ]
  },
  {
   "cell_type": "markdown",
   "metadata": {},
   "source": [
    "### Importing libraries"
   ]
  },
  {
   "cell_type": "code",
   "execution_count": 97,
   "metadata": {},
   "outputs": [],
   "source": [
    "import numpy as np\n",
    "import pandas as pd\n",
    "import matplotlib.pyplot as plt\n",
    "import scipy.stats as stats\n",
    "import math\n"
   ]
  },
  {
   "cell_type": "markdown",
   "metadata": {},
   "source": [
    "### Parameter definition"
   ]
  },
  {
   "cell_type": "code",
   "execution_count": 98,
   "metadata": {},
   "outputs": [],
   "source": [
    "mu1 = [0, 2.5]\n",
    "mu2 = [-2.5, -2]\n",
    "mu3 = [2.5, -2]\n",
    "\n",
    "cov1 = [[3.2, 0], [0, 1.2]]\n",
    "cov2 = [[1.2, 0.8], [0.8, 1.2]]\n",
    "cov3 = [[1.2, -0.8], [-0.8, 1.2]]\n",
    "\n",
    "N1 = 120\n",
    "N2 = 80\n",
    "N3 = 100"
   ]
  },
  {
   "cell_type": "markdown",
   "metadata": {},
   "source": [
    "### Generating data"
   ]
  },
  {
   "cell_type": "code",
   "execution_count": 99,
   "metadata": {},
   "outputs": [],
   "source": [
    "\n",
    "x1 = np.random.multivariate_normal(mu1, cov1, size=N1)\n",
    "x2 = np.random.multivariate_normal(mu2, cov2, size=N2)\n",
    "x3 = np.random.multivariate_normal(mu3, cov3, size=N3)\n",
    "\n",
    "X = np.concatenate((x1, x2, x3))\n",
    "\n",
    "y = np.concatenate((np.repeat(1, N1), np.repeat(2, N2), np.repeat(3, N3)))\n",
    "\n",
    "df = np.append(X,y[:, None], axis=1)"
   ]
  },
  {
   "cell_type": "markdown",
   "metadata": {},
   "source": [
    "### Visualizing the random "
   ]
  },
  {
   "cell_type": "code",
   "execution_count": 100,
   "metadata": {},
   "outputs": [
    {
     "data": {
      "image/png": "[encoded data removed]",
      "text/plain": [
       "<Figure size 432x288 with 1 Axes>"
      ]
     },
     "metadata": {
      "needs_background": "light"
     },
     "output_type": "display_data"
    }
   ],
   "source": [
    "\n",
    "plt.plot(df[df[:,2]==1].T[0], df[df[:,2]==1].T[1], 'o')\n",
    "plt.plot(df[df[:,2]==2].T[0], df[df[:,2]==2].T[1], 'o')\n",
    "plt.plot(df[df[:,2]==3].T[0], df[df[:,2]==3].T[1], 'o')\n",
    "\n",
    "plt.axis()\n",
    "plt.xlabel(\"x1\")\n",
    "plt.ylabel(\"x2\")\n",
    "\n",
    "plt.show()"
   ]
  },
  {
   "cell_type": "markdown",
   "metadata": {},
   "source": [
    "### Sample means:"
   ]
  },
  {
   "cell_type": "code",
   "execution_count": 101,
   "metadata": {},
   "outputs": [
    {
     "name": "stdout",
     "output_type": "stream",
     "text": [
      "[[ 0.04032901  2.41023923]\n",
      " [-2.58825276 -2.08679107]\n",
      " [ 2.46821704 -2.11649178]]\n"
     ]
    }
   ],
   "source": [
    "# get x and y values\n",
    "x1 = df[:,0]\n",
    "x2 = df[:,1]\n",
    "y = df[:,2].astype(int)\n",
    "\n",
    "# get number of classes and number of samples\n",
    "K = np.max(y)\n",
    "N = df.shape[0]\n",
    "\n",
    "# calculate sample means\n",
    "sample_means1 = [np.mean(x1[y == (c + 1)]) for c in range(K)]\n",
    "sample_means2 = [np.mean(x2[y == (c + 1)]) for c in range(K)]\n",
    "sample_means = np.column_stack((sample_means1 ,sample_means2))\n",
    "\n",
    "print(sample_means)"
   ]
  },
  {
   "cell_type": "markdown",
   "metadata": {},
   "source": [
    "### Sample variance and covariances:"
   ]
  },
  {
   "cell_type": "code",
   "execution_count": 102,
   "metadata": {},
   "outputs": [
    {
     "name": "stdout",
     "output_type": "stream",
     "text": [
      "[[[ 3.17605118 -0.36284781]\n",
      "  [-0.36284781  1.33879818]]\n",
      "\n",
      " [[ 1.20264422  0.7259267 ]\n",
      "  [ 0.7259267   1.32059292]]\n",
      "\n",
      " [[ 1.18605598 -0.90876384]\n",
      "  [-0.90876384  1.41980324]]]\n"
     ]
    }
   ],
   "source": [
    "# calculate sample variance and covariances\n",
    "varx1 = [(np.mean((x1[y == (c + 1)] - sample_means1[c])**2)) for c in range(K)]\n",
    "varx2 = [(np.mean((x2[y == (c + 1)] - sample_means2[c])**2)) for c in range(K)]\n",
    "covar_x1_2 = [(np.mean((x1[y == (c + 1)] - sample_means1[c])*(x2[y == (c + 1)] - sample_means2[c]))) for c in range(K)]\n",
    "\n",
    "sample_covariances = np.array([[\n",
    "                       [varx1[0],      covar_x1_2[0]],\n",
    "                       [covar_x1_2[0], varx2[0]]],\n",
    "                      \n",
    "                       [[varx1[1],     covar_x1_2[1]],\n",
    "                       [covar_x1_2[1], varx2[1]]],\n",
    "                      \n",
    "                       [[varx1[2],     covar_x1_2[2]],\n",
    "                       [covar_x1_2[2], varx2[2]]]\n",
    "                     ])\n",
    "\n",
    "print(sample_covariances)"
   ]
  },
  {
   "cell_type": "markdown",
   "metadata": {},
   "source": [
    "### class priors"
   ]
  },
  {
   "cell_type": "code",
   "execution_count": 103,
   "metadata": {},
   "outputs": [
    {
     "name": "stdout",
     "output_type": "stream",
     "text": [
      "[0.4, 0.26666666666666666, 0.3333333333333333]\n"
     ]
    }
   ],
   "source": [
    "# calculate prior probabilities\n",
    "class_priors = [np.mean(y == (c + 1)) for c in range(K)]\n",
    "\n",
    "print(class_priors)"
   ]
  },
  {
   "cell_type": "markdown",
   "metadata": {},
   "source": [
    "# Confusion matrix"
   ]
  },
  {
   "cell_type": "code",
   "execution_count": 104,
   "metadata": {},
   "outputs": [],
   "source": [
    "# defining the variables\n",
    "Wc = np.stack([-0.5*np.linalg.inv(sample_covariances[c])for c in range(K)])\n",
    "wc = np.stack([np.linalg.inv(sample_covariances[c])@sample_means[c] for c in range(K)])\n",
    "wc0 = np.stack([-0.5*(sample_means[c].T)@np.linalg.inv(sample_covariances[c])@(sample_means[c])-0.5*np.log(np.linalg.det(sample_covariances[c]))+np.log(class_priors[c]) for c in range(K)])"
   ]
  },
  {
   "cell_type": "code",
   "execution_count": 105,
   "metadata": {},
   "outputs": [],
   "source": [
    "# initial values for gc(x) function\n",
    "gc_x = np.zeros((N,K))\n",
    "\n",
    "# filling the gc_x function\n",
    "for j in range(K):\n",
    "    cnt = 0\n",
    "    for i in range(N):\n",
    "            x = X[i].T\n",
    "            gc_x[cnt,j] = x.T@Wc[j]@x+wc[j].T@x+wc0[j]\n",
    "            cnt +=1"
   ]
  },
  {
   "cell_type": "code",
   "execution_count": 106,
   "metadata": {},
   "outputs": [
    {
     "name": "stdout",
     "output_type": "stream",
     "text": [
      "y_truth    1   2   3\n",
      "y_pred              \n",
      "1        115   2   3\n",
      "2          2  78   0\n",
      "3          3   0  97\n"
     ]
    }
   ],
   "source": [
    "y_predicted = np.argmax(gc_x, axis = 1) + 1 # +1 to conver indedx value to y code\n",
    "confusion_matrix = pd.crosstab(y_predicted, y, rownames = ['y_pred'], colnames = ['y_truth'])\n",
    "print(confusion_matrix)"
   ]
  },
  {
   "cell_type": "markdown",
   "metadata": {},
   "source": [
    "# Decision boundaries"
   ]
  },
  {
   "cell_type": "code",
   "execution_count": 110,
   "metadata": {},
   "outputs": [
    {
     "data": {
      "image/png": "[encoded data removed]",
      "text/plain": [
       "<Figure size 720x720 with 1 Axes>"
      ]
     },
     "metadata": {
      "needs_background": "light"
     },
     "output_type": "display_data"
    }
   ],
   "source": [
    "# evaluate discriminant function on a grid\n",
    "x1_interval = np.linspace(-6, +6, 500)\n",
    "x2_interval = np.linspace(-6, +6, 500)\n",
    "x1_grid, x2_grid = np.meshgrid(x1_interval, x2_interval)\n",
    "\n",
    "discriminant_values = np.zeros((len(x1_interval), len(x2_interval), K))\n",
    "\n",
    "\n",
    "for c in range(K):\n",
    "    for i in range(x1_grid.shape[0]):\n",
    "        for j in range(x2_grid.shape[0]):\n",
    "            x = np.array([x1_grid[i][j], x2_grid[i][j]]).reshape(2,1)\n",
    "            discriminant_values[i,j,c] = x.T@Wc[c]@x+wc[c].T@x+wc0[c]\n",
    "            \n",
    "A = discriminant_values[:,:,0]\n",
    "B = discriminant_values[:,:,1]\n",
    "C = discriminant_values[:,:,2]\n",
    "A[(A < B) & (A < C)] = np.nan\n",
    "B[(B < A) & (B < C)] = np.nan\n",
    "C[(C < A) & (C < B)] = np.nan\n",
    "discriminant_values[:,:,0] = A\n",
    "discriminant_values[:,:,1] = B\n",
    "discriminant_values[:,:,2] = C\n",
    "\n",
    "plt.figure(figsize = (10, 10))\n",
    "plt.plot(X[y == 1, 0], X[y == 1, 1], \"r.\", markersize = 10)\n",
    "plt.plot(X[y == 2, 0], X[y == 2, 1], \"g.\", markersize = 10)\n",
    "plt.plot(X[y == 3, 0], X[y == 3, 1], \"b.\", markersize = 10)\n",
    "plt.plot(X[y_predicted != y, 0], X[y_predicted != y, 1], \"ko\", markersize = 12, fillstyle = \"none\")\n",
    "plt.contour(x1_grid, x2_grid, discriminant_values[:,:,0] - discriminant_values[:,:,1], levels = 0, colors = \"k\")\n",
    "plt.contour(x1_grid, x2_grid, discriminant_values[:,:,0] - discriminant_values[:,:,2], levels = 0, colors = \"k\")\n",
    "plt.contour(x1_grid, x2_grid, discriminant_values[:,:,1] - discriminant_values[:,:,2], levels = 0, colors = \"k\")\n",
    "plt.xlabel(\"x1\")\n",
    "plt.ylabel(\"x2\")\n",
    "plt.show()"
   ]
  },
  {
   "cell_type": "code",
   "execution_count": null,
   "metadata": {},
   "outputs": [],
   "source": []
  }
 ],
 "metadata": {
  "kernelspec": {
   "display_name": "Python 3",
   "language": "python",
   "name": "python3"
  },
  "language_info": {
   "codemirror_mode": {
    "name": "ipython",
    "version": 3
   },
   "file_extension": ".py",
   "mimetype": "text/x-python",
   "name": "python",
   "nbconvert_exporter": "python",
   "pygments_lexer": "ipython3",
   "version": "3.8.5"
  }
 },
 "nbformat": 4,
 "nbformat_minor": 4
}
