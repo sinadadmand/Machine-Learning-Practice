{
 "cells": [
  {
   "cell_type": "markdown",
   "metadata": {},
   "source": [
    "# DASC521: Homework 2\n",
    "## Sina Dadmand\n"
   ]
  },
  {
   "cell_type": "markdown",
   "metadata": {},
   "source": [
    "## Importing libraries"
   ]
  },
  {
   "cell_type": "code",
   "execution_count": 1,
   "metadata": {},
   "outputs": [],
   "source": [
    "import numpy as np\n",
    "import pandas as pd\n",
    "import matplotlib.pyplot as plt\n",
    "import scipy.stats as stats\n",
    "import math"
   ]
  },
  {
   "cell_type": "markdown",
   "metadata": {},
   "source": [
    "# Reading and dividing dataset:"
   ]
  },
  {
   "cell_type": "code",
   "execution_count": 2,
   "metadata": {},
   "outputs": [],
   "source": [
    "images = pd.read_csv('hw02_images.csv', header = None)\n",
    "labels = pd.read_csv('hw02_labels.csv', header = None)\n",
    "\n",
    "train = images.loc[:29999,]\n",
    "test = images.loc[30000:,]\n",
    "\n",
    "train_y = labels.loc[:29999, 0]\n",
    "test_y = labels.loc[30000:, 0]"
   ]
  },
  {
   "cell_type": "markdown",
   "metadata": {},
   "source": [
    "# Parameter estimations for the training dataset\n"
   ]
  },
  {
   "cell_type": "code",
   "execution_count": 3,
   "metadata": {},
   "outputs": [
    {
     "name": "stdout",
     "output_type": "stream",
     "text": [
      "[0      254.998667\n",
      "1      254.984167\n",
      "2      254.856167\n",
      "3      254.667333\n",
      "4      254.544667\n",
      "          ...    \n",
      "779    253.132167\n",
      "780    254.236500\n",
      "781    254.679000\n",
      "782    254.878167\n",
      "783    254.959333\n",
      "Length: 784, dtype: float64, 0      254.997333\n",
      "1      254.997333\n",
      "2      254.996500\n",
      "3      254.994167\n",
      "4      254.870500\n",
      "          ...    \n",
      "779    254.582333\n",
      "780    254.904500\n",
      "781    254.968833\n",
      "782    254.992167\n",
      "783    254.988667\n",
      "Length: 784, dtype: float64, 0      254.999333\n",
      "1      254.999333\n",
      "2      254.992333\n",
      "3      254.976500\n",
      "4      254.879667\n",
      "          ...    \n",
      "779    199.764167\n",
      "780    233.056333\n",
      "781    251.524833\n",
      "782    254.472500\n",
      "783    254.974833\n",
      "Length: 784, dtype: float64, 0      254.996667\n",
      "1      254.989833\n",
      "2      254.914167\n",
      "3      254.692167\n",
      "4      254.189167\n",
      "          ...    \n",
      "779    229.081500\n",
      "780    242.632333\n",
      "781    252.395167\n",
      "782    254.441667\n",
      "783    254.936667\n",
      "Length: 784, dtype: float64, 0      254.999000\n",
      "1      254.984333\n",
      "2      254.937833\n",
      "3      254.772500\n",
      "4      254.497000\n",
      "          ...    \n",
      "779    240.977000\n",
      "780    247.397833\n",
      "781    250.673000\n",
      "782    253.233333\n",
      "783    254.790833\n",
      "Length: 784, dtype: float64]\n",
      "[0       0.091277\n",
      "1       0.256091\n",
      "2       1.310908\n",
      "3       3.805435\n",
      "4       5.279489\n",
      "         ...    \n",
      "779    11.381126\n",
      "780     7.697201\n",
      "781     5.298266\n",
      "782     3.911733\n",
      "783     1.939591\n",
      "Length: 784, dtype: float64, 0      0.206542\n",
      "1      0.206542\n",
      "2      0.216382\n",
      "3      0.230505\n",
      "4      1.981177\n",
      "         ...   \n",
      "779    4.416811\n",
      "780    2.276704\n",
      "781    1.040767\n",
      "782    0.470573\n",
      "783    0.700622\n",
      "Length: 784, dtype: float64, 0       0.051635\n",
      "1       0.040819\n",
      "2       0.160025\n",
      "3       0.216674\n",
      "4       2.821794\n",
      "         ...    \n",
      "779    67.656127\n",
      "780    43.208053\n",
      "781    18.436659\n",
      "782     6.788169\n",
      "783     1.106134\n",
      "Length: 784, dtype: float64, 0       0.184361\n",
      "1       0.216171\n",
      "2       1.810469\n",
      "3       4.664555\n",
      "4       8.351111\n",
      "         ...    \n",
      "779    49.487256\n",
      "780    31.934853\n",
      "781    15.678000\n",
      "782     6.345492\n",
      "783     1.799719\n",
      "Length: 784, dtype: float64, 0       0.044710\n",
      "1       0.645823\n",
      "2       3.032486\n",
      "3       4.683703\n",
      "4       7.482735\n",
      "         ...    \n",
      "779    41.664583\n",
      "780    30.857207\n",
      "781    23.625764\n",
      "782    13.916701\n",
      "783     4.472779\n",
      "Length: 784, dtype: float64]\n",
      "[0.2, 0.2, 0.2, 0.2, 0.2]\n"
     ]
    }
   ],
   "source": [
    "# get number of classes and number of samples\n",
    "K = int(np.max(labels))\n",
    "N = train.shape[0]\n",
    "\n",
    "# calculate sample means and deviations\n",
    "sample_means = [train[train_y == (c + 1)].apply(lambda x: np.array(x.mean())).astype(np.float64) for c in range(K)]\n",
    "sample_deviations  = [train[train_y == (c + 1)].apply(lambda x: np.array(x.std(ddof=0))).astype(np.float64) for c in range(K)]\n",
    "class_priors = [len(train_y[train_y == (c+1)]) / len(train_y) for c in range(K)]\n",
    "\n",
    "print(sample_means)\n",
    "print(sample_deviations)\n",
    "print(class_priors)"
   ]
  },
  {
   "cell_type": "markdown",
   "metadata": {},
   "source": [
    "# Score function for Bayes classifier and max score finder"
   ]
  },
  {
   "cell_type": "code",
   "execution_count": 7,
   "metadata": {},
   "outputs": [],
   "source": [
    "tiny = 1e-308 # for the safelog\n",
    "\n",
    "# Naive-Bayes \n",
    "def bayes(x, mean, dev, prior):\n",
    "    P = (1/(dev * np.sqrt(2 * np.pi))) * np.exp(((mean - x)*(x - mean))/(2 * dev * dev))\n",
    "    P = np.log(P+tiny)\n",
    "    return np.sum(P) + np.log(prior)\n",
    "\n"
   ]
  },
  {
   "cell_type": "code",
   "execution_count": 8,
   "metadata": {},
   "outputs": [],
   "source": [
    "train_pred = np.empty(shape=(len(train_y),))\n",
    "\n",
    "for i in range(len(train_y)):\n",
    "    train_pred[i] = np.argmax(np.array([bayes(train.loc[i,:], sample_means[0], sample_deviations[0], class_priors[0]), \n",
    "                                          bayes(train.loc[i,:], sample_means[1], sample_deviations[1], class_priors[1]),\n",
    "                                          bayes(train.loc[i,:], sample_means[2], sample_deviations[2], class_priors[2]),\n",
    "                                          bayes(train.loc[i,:], sample_means[3], sample_deviations[3], class_priors[3]),\n",
    "                                          bayes(train.loc[i,:], sample_means[4], sample_deviations[4], class_priors[4]),\n",
    "                                         ])) + 1"
   ]
  },
  {
   "cell_type": "code",
   "execution_count": 9,
   "metadata": {},
   "outputs": [],
   "source": [
    "test_pred = np.empty(shape=(len(test_y),))\n",
    "\n",
    "for i in range(len(test_y)):\n",
    "    test_pred[i] = np.argmax(np.array([bayes(test.loc[N+i,:], sample_means[0], sample_deviations[0], class_priors[0]), \n",
    "                                         bayes(test.loc[N+i,:], sample_means[1], sample_deviations[1], class_priors[1]),\n",
    "                                         bayes(test.loc[N+i,:], sample_means[2], sample_deviations[2], class_priors[2]),\n",
    "                                         bayes(test.loc[N+i,:], sample_means[3], sample_deviations[3], class_priors[3]),\n",
    "                                         bayes(test.loc[N+i,:], sample_means[4], sample_deviations[4], class_priors[4]),\n",
    "                                         ])) + 1\n",
    "\n",
    "\n"
   ]
  },
  {
   "cell_type": "markdown",
   "metadata": {},
   "source": [
    "# Confusion matrix"
   ]
  },
  {
   "cell_type": "code",
   "execution_count": 11,
   "metadata": {},
   "outputs": [
    {
     "name": "stdout",
     "output_type": "stream",
     "text": [
      "y_truth     1     2     3     4     5\n",
      "y_pred                               \n",
      "1.0      3685    49     4   679     6\n",
      "2.0      1430  5667  1140  1380   532\n",
      "3.0       508   208  4670  2948   893\n",
      "4.0       233    59   123   686   180\n",
      "5.0       144    17    63   307  4389\n",
      "y_truth    1    2    3    4    5\n",
      "y_pred                          \n",
      "1.0      597    6    0  114    1\n",
      "2.0      237  955  188  267   81\n",
      "3.0       92   25  785  462  167\n",
      "4.0       34   11   16  109   29\n",
      "5.0       40    3   11   48  722\n"
     ]
    }
   ],
   "source": [
    "confusion_matrix_train = pd.crosstab(train_pred, train_y, rownames = ['y_pred'], colnames = ['y_truth'])\n",
    "confusion_matrix_test = pd.crosstab(test_pred, test_y, rownames = ['y_pred'], colnames = ['y_truth'])\n",
    "print(confusion_matrix_train)\n",
    "print(confusion_matrix_test)"
   ]
  }
 ],
 "metadata": {
  "kernelspec": {
   "display_name": "Python 3",
   "language": "python",
   "name": "python3"
  },
  "language_info": {
   "codemirror_mode": {
    "name": "ipython",
    "version": 3
   },
   "file_extension": ".py",
   "mimetype": "text/x-python",
   "name": "python",
   "nbconvert_exporter": "python",
   "pygments_lexer": "ipython3",
   "version": "3.8.5"
  }
 },
 "nbformat": 4,
 "nbformat_minor": 4
}
