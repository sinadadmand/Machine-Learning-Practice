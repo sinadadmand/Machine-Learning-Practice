{
 "cells": [
  {
   "cell_type": "markdown",
   "metadata": {},
   "source": [
    "# HW05: Decision Tree Regression\n",
    "## Sina Dadmand\n",
    "### December 6, 2021"
   ]
  },
  {
   "cell_type": "code",
   "execution_count": 50,
   "metadata": {},
   "outputs": [],
   "source": [
    "import matplotlib.pyplot as plt\n",
    "import numpy as np\n",
    "import pandas as pd\n",
    "from decimal import Decimal\n",
    "from math import isnan\n"
   ]
  },
  {
   "cell_type": "markdown",
   "metadata": {},
   "source": [
    "## Data Import"
   ]
  },
  {
   "cell_type": "code",
   "execution_count": 51,
   "metadata": {},
   "outputs": [],
   "source": [
    "# Initializing data\n",
    "\n",
    "data = np.genfromtxt(\"hw05_data_set.csv\", delimiter = \",\", skip_header=1)\n",
    "data_train = data[:150]\n",
    "data_test = data[150:]\n",
    "X_train = data_train[:,0]\n",
    "y_train = data_train[:,1]\n",
    "X_test = data_test[:,0]\n",
    "y_test = data_test[:,1]\n"
   ]
  },
  {
   "cell_type": "code",
   "execution_count": 52,
   "metadata": {
    "jupyter": {
     "source_hidden": true
    }
   },
   "outputs": [],
   "source": [
    "class Node:\n",
    "    is_terminal = None\n",
    "    left_node = None\n",
    "    right_node = None\n",
    "    value = None\n",
    "    \n",
    "    def __init__(self, reaching_x, reaching_y, P):\n",
    "        #print(\"I got: \",len(reaching_x))\n",
    "        # Split\n",
    "        x_sorted = np.sort(np.unique(reaching_x))\n",
    "        split_candidate = np.empty((len(x_sorted)-1))\n",
    "        if len(split_candidate) == 0:\n",
    "            self.is_terminal = True\n",
    "            self.value = np.mean(reaching_y)\n",
    "        else:            \n",
    "            for i in range(len(split_candidate)):\n",
    "                split_candidate[i] = (x_sorted[i] + x_sorted[i+1])/2 # middle points\n",
    "            # Try all of them\n",
    "            split_errors = np.zeros_like(split_candidate)\n",
    "            for i in range(len(split_candidate)):\n",
    "                s = split_candidate[i]\n",
    "                left_y = reaching_y[reaching_x < s]\n",
    "                right_y = reaching_y[reaching_x >= s]\n",
    "                # Calculate error\n",
    "                split_errors[i] = (np.sum((left_y - np.mean(left_y)) * (left_y - np.mean(left_y))) + np.sum((right_y - np.mean(right_y))*(right_y - np.mean(right_y))))/len(reaching_y)\n",
    "                \n",
    "            # Get the best split\n",
    "            best_split = split_candidate[np.argmin(split_errors)]\n",
    "            \n",
    "            # Split the data\n",
    "            left_x = reaching_x[reaching_x < best_split]\n",
    "            right_x = reaching_x[reaching_x >= best_split]\n",
    "            left_y = reaching_y[reaching_x < best_split]\n",
    "            right_y = reaching_y[reaching_x >= best_split]\n",
    "            \n",
    "            #print(\"Length of left x'es:\",len(left_x))\n",
    "            #print(\"Length of right x'es:\",len(right_x))\n",
    "            #print(\"\\n\\n\")\n",
    "            if len(left_x) == 0:\n",
    "                # Only right\n",
    "                self.is_terminal = True\n",
    "                self.value = np.mean(right_y)        \n",
    "            elif len(right_x) == 0:\n",
    "                # Only left\n",
    "                self.is_terminal = True\n",
    "                self.value = np.mean(left_y)\n",
    "            elif len(left_x) + len(right_x) <= P:\n",
    "                # Prune\n",
    "                self.is_terminal = True\n",
    "                self.value = np.mean(np.append(left_y,right_y))\n",
    "            else:\n",
    "                # This is not a terminal node!\n",
    "                self.is_terminal = False\n",
    "                # Create left and right nodes.\n",
    "                self.value = best_split            \n",
    "                self.left_node = Node(left_x, left_y, P)\n",
    "                self.right_node = Node(right_x, right_y, P)\n",
    "            \n",
    "# Class for decision tree\n",
    "class desctree:\n",
    "    root = None\n",
    "    \n",
    "    def __init__(self, X, Y, P):\n",
    "        self.root = Node(X, Y, P)\n",
    "          \n",
    "    def predict(self, X):\n",
    "        node = self.root\n",
    "        while not node.is_terminal:\n",
    "            split_value = node.value\n",
    "            if X <= split_value:\n",
    "                node = node.left_node\n",
    "            else:\n",
    "                node = node.right_node\n",
    "        return node.value\n",
    "        \n",
    "\n",
    "def initPlot(X_train, X_test, y_train, y_test):\n",
    "    pplt = plt.figure().add_subplot(111)\n",
    "    pplt.plot(X_train, y_train, 'o', color='blue')\n",
    "    pplt.plot(X_test, y_test, 'o', color='red')\n",
    "    pplt.set_ylabel('Waiting time to next eruption (min)')\n",
    "    pplt.set_xlabel('Eruption time (min)')\n",
    "    return pplt"
   ]
  },
  {
   "cell_type": "markdown",
   "metadata": {},
   "source": [
    "## Plotting"
   ]
  },
  {
   "cell_type": "code",
   "execution_count": 53,
   "metadata": {},
   "outputs": [
    {
     "data": {
      "text/plain": [
       "Text(0.5, 0, 'Eruption time (min)')"
      ]
     },
     "execution_count": 53,
     "metadata": {},
     "output_type": "execute_result"
    },
    {
     "data": {
      "image/png": "[encoded data removed]",
      "text/plain": [
       "<Figure size 432x288 with 1 Axes>"
      ]
     },
     "metadata": {
      "needs_background": "light"
     },
     "output_type": "display_data"
    }
   ],
   "source": [
    "plot = plt.figure().add_subplot(111)\n",
    "plot.plot(X_train, y_train, 'o', color='blue')\n",
    "plot.plot(X_test, y_test, 'o', color='red')\n",
    "plot.set_ylabel('Waiting time to next eruption (min)')\n",
    "plot.set_xlabel('Eruption time (min)')\n"
   ]
  },
  {
   "cell_type": "markdown",
   "metadata": {},
   "source": [
    "# Constructing the tree"
   ]
  },
  {
   "cell_type": "code",
   "execution_count": 54,
   "metadata": {},
   "outputs": [
    {
     "name": "stdout",
     "output_type": "stream",
     "text": [
      "RMSE on training set is 4.5412 when P is 25\n",
      "RMSE on test set is 6.4541 when P is 25\n"
     ]
    }
   ],
   "source": [
    "# Constructing tree for P = 25\n",
    "\n",
    "tree = desctree(X_train, y_train, 25)\n",
    "y_test_pred = [tree.predict(x) for x in X_test]\n",
    "y_train_pred = [tree.predict(x) for x in X_train]\n",
    "\n",
    "train_rmse_error = Decimal(np.sqrt(np.sum((y_train - y_train_pred) * (y_train - y_train_pred)) / len(y_train))).quantize(Decimal('1.0000'))\n",
    "test_rmse_error = Decimal(np.sqrt(np.sum((y_test - y_test_pred) * (y_test - y_test_pred)) / len(y_test))).quantize(Decimal('1.0000'))\n",
    "\n",
    "print(\"RMSE on training set is\",train_rmse_error,\"when P is\",25)\n",
    "print(\"RMSE on test set is\",test_rmse_error,\"when P is\",25)\n",
    "\n"
   ]
  },
  {
   "cell_type": "code",
   "execution_count": 58,
   "metadata": {},
   "outputs": [
    {
     "data": {
      "text/plain": [
       "<Figure size 432x288 with 0 Axes>"
      ]
     },
     "metadata": {},
     "output_type": "display_data"
    },
    {
     "data": {
      "image/png": "[encoded data removed]",
      "text/plain": [
       "<Figure size 432x288 with 1 Axes>"
      ]
     },
     "metadata": {
      "needs_background": "light"
     },
     "output_type": "display_data"
    }
   ],
   "source": [
    "# Drawing line\n",
    "data_interval = np.linspace(start=1.5, stop=5.2, num=int((5.2-1.5)//0.01))\n",
    "data_interval_predict = [tree.predict(x) for x in data_interval]\n",
    "plot.plot(data_interval, data_interval_predict, color = 'black')\n",
    "plt.savefig('dataplot.png')\n",
    "\n",
    "PP = np.arange(5, 55, 5)\n",
    "rmse_errors_test = np.array([])\n",
    "rmse_errors_train = np.array([])\n",
    "for P in PP:\n",
    "    tree = desctree(X_train, y_train, P)\n",
    "    y_test_pred = [tree.predict(x) for x in X_test]\n",
    "    y_train_pred = [tree.predict(x) for x in X_train]\n",
    "    rmse_errors_train = np.append(rmse_errors_train,Decimal(np.sqrt(np.sum((y_train - y_train_pred) * (y_train - y_train_pred)) / len(y_train))).quantize(Decimal('1.0000')))\n",
    "    rmse_errors_test = np.append(rmse_errors_test,Decimal(np.sqrt(np.sum((y_test - y_test_pred) * (y_test - y_test_pred)) / len(y_test))).quantize(Decimal('1.0000')))\n",
    "\n",
    "# Plotting\n",
    "pp_rmse_plot = plt.figure().add_subplot(111)\n",
    "pp_rmse_plot.scatter(PP, rmse_errors_test, color='red');\n",
    "pp_rmse_plot.plot(PP, rmse_errors_test, color='red');\n",
    "pp_rmse_plot.scatter(PP, rmse_errors_train, color='blue');\n",
    "pp_rmse_plot.plot(PP, rmse_errors_train, color='blue');\n",
    "pp_rmse_plot.set_ylabel('RMSE')\n",
    "pp_rmse_plot.set_xlabel('Pre-pruning size (P)')\n",
    "plt.savefig('pptorms.png')\n"
   ]
  },
  {
   "cell_type": "code",
   "execution_count": null,
   "metadata": {},
   "outputs": [],
   "source": []
  }
 ],
 "metadata": {
  "kernelspec": {
   "display_name": "Python 3",
   "language": "python",
   "name": "python3"
  },
  "language_info": {
   "codemirror_mode": {
    "name": "ipython",
    "version": 3
   },
   "file_extension": ".py",
   "mimetype": "text/x-python",
   "name": "python",
   "nbconvert_exporter": "python",
   "pygments_lexer": "ipython3",
   "version": "3.8.5"
  }
 },
 "nbformat": 4,
 "nbformat_minor": 4
}
